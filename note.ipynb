{
 "cells": [
  {
   "cell_type": "code",
   "execution_count": 7,
   "metadata": {},
   "outputs": [
    {
     "data": {
      "text/plain": [
       "'There are eight planets in our solar system: Mercury, Venus, Earth, Mars, Jupiter, Saturn, Uranus, and Neptune.'"
      ]
     },
     "execution_count": 7,
     "metadata": {},
     "output_type": "execute_result"
    }
   ],
   "source": [
    "from langchain.chat_models import ChatOpenAI\n",
    "\n",
    "chat = ChatOpenAI()\n",
    "\n",
    "b = chat.predict(\"How many planets are there?\")\n",
    "b"
   ]
  },
  {
   "cell_type": "code",
   "execution_count": 8,
   "metadata": {},
   "outputs": [
    {
     "data": {
      "text/plain": [
       "['Heelll', 'sdfasdgre', 'rgareg', 'sad']"
      ]
     },
     "execution_count": 8,
     "metadata": {},
     "output_type": "execute_result"
    }
   ],
   "source": [
    "from langchain.schema import BaseOutputParser\n",
    "from langchain.prompts import ChatPromptTemplate\n",
    "\n",
    "class CommaOutPutParser(BaseOutputParser):\n",
    "    def parse(self, text):\n",
    "        items = text.strip().split(\",\")\n",
    "        return list(map(str.strip, items))\n",
    "\n",
    "p = CommaOutPutParser()\n",
    "p.parse(\"Heelll, sdfasdgre ,rgareg ,sad\")"
   ]
  },
  {
   "cell_type": "code",
   "execution_count": 9,
   "metadata": {},
   "outputs": [],
   "source": [
    "template = ChatPromptTemplate.from_messages(\n",
    "    [\n",
    "        (\n",
    "            \"system\",\n",
    "            \"You are a world-class international chef. You create easy to follow recipies for any type of cuisine with easy to find ingredients\",\n",
    "        ),\n",
    "        (\n",
    "            \"human\",\n",
    "            \"I want to cook {cuisine} food.\",\n",
    "        ),\n",
    "    ]\n",
    ")\n",
    "chef_chain = template | chat\n"
   ]
  },
  {
   "cell_type": "code",
   "execution_count": null,
   "metadata": {},
   "outputs": [],
   "source": []
  },
  {
   "cell_type": "code",
   "execution_count": 10,
   "metadata": {},
   "outputs": [
    {
     "data": {
      "text/plain": [
       "AIMessage(content=\"To make a vegetarian version of Chicken Tikka Masala, we can easily replace the chicken with a suitable alternative. Here's how you can adapt the recipe:\\n\\nIngredients:\\n- 1 lb of firm tofu, cut into bite-sized pieces OR 1 lb of cauliflower florets\\n- 1 cup plain yogurt (replace with plant-based yogurt for a vegan option)\\n- 2 tbsp lemon juice\\n- 2 tbsp vegetable oil\\n- 1 onion, finely chopped\\n- 3 cloves garlic, minced\\n- 1-inch piece of ginger, grated\\n- 1 can (14 oz) diced tomatoes\\n- 1 tbsp garam masala\\n- 1 tsp ground cumin\\n- 1 tsp ground coriander\\n- 1/2 tsp turmeric\\n- 1/2 tsp chili powder (adjust to taste)\\n- 1/2 cup heavy cream OR coconut cream for a vegan option\\n- Salt and pepper to taste\\n- Fresh cilantro, chopped (for garnish)\\n\\nInstructions:\\n1. For Tofu Option: Replace chicken with tofu. Press the tofu to remove excess water, then cut it into bite-sized cubes. For Cauliflower Option: Cut cauliflower into florets.\\n2. Follow the marination process as described in the original recipe, substituting chicken with tofu cubes or cauliflower florets. Let it marinate as directed.\\n3. Proceed with cooking the marinated tofu or cauliflower in place of the chicken until browned on all sides.\\n4. Continue with the recipe by adding onion, garlic, ginger, diced tomatoes, and spices as instructed.\\n5. For the final steps, stir in the heavy cream or coconut cream and simmer to allow the flavors to meld together.\\n6. Adjust the seasoning with salt and pepper if needed.\\n7. Serve the Vegetarian Tikka Masala over steamed rice, garnished with fresh cilantro.\\n\\nBy making these simple swaps, you can enjoy a delicious Vegetarian Tikka Masala that stays true to the classic flavors of the traditional dish.\")"
      ]
     },
     "execution_count": 10,
     "metadata": {},
     "output_type": "execute_result"
    }
   ],
   "source": [
    "veg_template = ChatPromptTemplate.from_messages(\n",
    "    [\n",
    "        (\n",
    "            \"system\",\n",
    "            \"You are a vegetarian chef specialized on making traditonal recipies vegetarian. You find alternative ingredients and explain their preparation. You don't radically modify the recipe. If there is no alter for a food just say you don't know how to replace it.\",\n",
    "        ),\n",
    "        (\n",
    "            \"human\",\n",
    "            \"{recipe}\",\n",
    "        ),\n",
    "    ]\n",
    ")\n",
    "veg_chain = veg_template | chat\n",
    "\n",
    "final_chain = {\"recipe\": chef_chain} | veg_chain\n",
    "final_chain.invoke({\n",
    "    \"cuisine\": \"indian\"\n",
    "})"
   ]
  }
 ],
 "metadata": {
  "kernelspec": {
   "display_name": "venv",
   "language": "python",
   "name": "python3"
  },
  "language_info": {
   "codemirror_mode": {
    "name": "ipython",
    "version": 3
   },
   "file_extension": ".py",
   "mimetype": "text/x-python",
   "name": "python",
   "nbconvert_exporter": "python",
   "pygments_lexer": "ipython3",
   "version": "3.11.6"
  }
 },
 "nbformat": 4,
 "nbformat_minor": 2
}
