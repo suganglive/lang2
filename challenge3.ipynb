{
 "cells": [
  {
   "cell_type": "code",
   "execution_count": 1,
   "metadata": {},
   "outputs": [],
   "source": [
    "from langchain.memory import ConversationSummaryBufferMemory\n",
    "from langchain.chat_models import ChatOpenAI\n",
    "from langchain.schema.runnable import RunnablePassthrough\n",
    "from langchain.prompts import ChatPromptTemplate, MessagesPlaceholder\n",
    "from langchain.prompts.few_shot import FewShotChatMessagePromptTemplate\n",
    "\n",
    "llm = ChatOpenAI(temperature=0.1)\n",
    "\n",
    "# examples = [\n",
    "#     {\n",
    "#         \"movie\": \"Top Gun\",\n",
    "#         \"answer\": \"🛩️👨‍✈️🔥\",\n",
    "#     },\n",
    "#     {\n",
    "#         \"movie\": \"The Godfather\",\n",
    "#         \"answer\": \"👨‍👨‍👦🔫🍝\",\n",
    "#     },\n",
    "#     {\n",
    "#         \"movie\": \"@What was the first movie that I asked you about?\",\n",
    "#         \"answer\": \"Your first asked movie is 'Inception'.\",\n",
    "#     },\n",
    "# ]\n",
    "\n",
    "# example_prompt = ChatPromptTemplate.from_messages([\n",
    "#     (\"human\", \"{movie}\"),\n",
    "#     (\"ai\", \"{answer}\")\n",
    "# ])\n",
    "\n",
    "# example_prompt = FewShotChatMessagePromptTemplate(\n",
    "#     example_prompt=example_prompt,\n",
    "#     examples=examples,\n",
    "# )\n",
    "\n",
    "memory = ConversationSummaryBufferMemory(\n",
    "    llm=llm,\n",
    "    max_token_limit=120,\n",
    "    return_messages=True,\n",
    ")\n",
    "\n",
    "prompt = ChatPromptTemplate.from_messages(\n",
    "    [\n",
    "        # (\"system\", \"You are a movie to emoji converter. you get movie name, you answer with the 3 emojis that represent the movie.\"),\n",
    "        (\"system\", \"You are a movie to emoji converter. you get movie name, you answer with the 3 emojis that represent the movie. But you also get inputs like question. typically questions starts with '@'. if you got question. you answer the question like normal ai chat bot.\"),\n",
    "        # example_prompt,\n",
    "        MessagesPlaceholder(variable_name=\"history\"),\n",
    "        (\"human\", \"{movie}\"),\n",
    "    ]\n",
    ")\n",
    "\n",
    "\n",
    "def load_memory(_):\n",
    "    return memory.load_memory_variables({})[\"history\"]\n",
    "\n",
    "\n",
    "chain = RunnablePassthrough.assign(history=load_memory) | prompt | llm\n",
    "\n",
    "\n",
    "def invoke_chain(movie):\n",
    "    result = chain.invoke({\"movie\": movie})\n",
    "    memory.save_context(\n",
    "        {\"input\": movie},\n",
    "        {\"output\": result.content},\n",
    "    )\n",
    "    print(result)"
   ]
  },
  {
   "cell_type": "code",
   "execution_count": 2,
   "metadata": {},
   "outputs": [
    {
     "name": "stdout",
     "output_type": "stream",
     "text": [
      "content='🕶️💊🤖'\n"
     ]
    }
   ],
   "source": [
    "invoke_chain(\"The Matrix\")"
   ]
  },
  {
   "cell_type": "code",
   "execution_count": 3,
   "metadata": {},
   "outputs": [
    {
     "name": "stdout",
     "output_type": "stream",
     "text": [
      "content='🦇🃏🦹\\u200d♂️'\n"
     ]
    }
   ],
   "source": [
    "invoke_chain(\"The dark knight\")"
   ]
  },
  {
   "cell_type": "code",
   "execution_count": 4,
   "metadata": {},
   "outputs": [
    {
     "name": "stdout",
     "output_type": "stream",
     "text": [
      "content=\"Your first asked movie is 'Top Gun'.\"\n"
     ]
    }
   ],
   "source": [
    "invoke_chain(\"@What was the first movie that I ask you about?\")"
   ]
  }
 ],
 "metadata": {
  "kernelspec": {
   "display_name": "venv",
   "language": "python",
   "name": "python3"
  },
  "language_info": {
   "codemirror_mode": {
    "name": "ipython",
    "version": 3
   },
   "file_extension": ".py",
   "mimetype": "text/x-python",
   "name": "python",
   "nbconvert_exporter": "python",
   "pygments_lexer": "ipython3",
   "version": "3.11.6"
  }
 },
 "nbformat": 4,
 "nbformat_minor": 2
}
